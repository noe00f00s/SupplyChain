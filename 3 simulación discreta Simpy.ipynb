{
 "cells": [
  {
   "cell_type": "markdown",
   "metadata": {},
   "source": [
    "### Simulacion usando Simpy (caso PIL)\n",
    "\n",
    "La empresa de leche Pil tiene compradores al por mayor. los cuales realizan pedidos a la empresa que son a su ves redirigidos a los carros repartidores.\n",
    "\n",
    "Estos carros repartidores inician su jornada con la lista de pedidos y proceden a ir a la seccion de carga segun orden de llegada para cargar los productos que los compradores por mayor pidieron para ese dia."
   ]
  },
  {
   "cell_type": "code",
   "execution_count": 1,
   "metadata": {},
   "outputs": [
    {
     "name": "stdout",
     "output_type": "stream",
     "text": [
      "Requirement already satisfied: simpy in /opt/conda/lib/python3.7/site-packages (3.0.11)\r\n"
     ]
    }
   ],
   "source": [
    "#instalamos la libreria de sumulacion.\n",
    "!pip install simpy"
   ]
  },
  {
   "cell_type": "code",
   "execution_count": 2,
   "metadata": {},
   "outputs": [],
   "source": [
    "# Importamos las bibliotecas necesarias\n",
    "import random\n",
    "import math\n",
    "import simpy"
   ]
  },
  {
   "cell_type": "code",
   "execution_count": 3,
   "metadata": {},
   "outputs": [],
   "source": [
    "# definimos algunos datos para la simulacion.\n",
    "num_despachadores = 1\n",
    "tiempo_carga_min = 10\n",
    "tiempo_carga_max = 20\n",
    "tiempo_entre_llegadas = 15\n",
    "total_repartidores = 5\n",
    " \n",
    "te  = 0.0 # tiempo de espera total"
   ]
  },
  {
   "cell_type": "code",
   "execution_count": 4,
   "metadata": {},
   "outputs": [],
   "source": [
    "def cargar(repartidor):\n",
    "    intervalo = (tiempo_carga_max - tiempo_carga_min) * random.random() #intervalo aleatorio\n",
    "    tiempo_corte = tiempo_carga_min + intervalo \n",
    "    yield env.timeout(tiempo_corte) # deja correr el tiempo n minutos\n",
    "    print(\" Carro del repartidor {} cargado en {:.2f} minutos\".format(repartidor,tiempo_corte))\n",
    "\n",
    "def repartidor (env, nombre, despachador ):\n",
    "    global te\n",
    "    hora_llegada = env.now # Guarda el minuto de llegada del cliente\n",
    "    print (\"---> {} llego al area de carga en minuto {:.2f}\".format(nombre, hora_llegada))\n",
    "    with despachador.request() as request: # Espera su turno\n",
    "        yield request # Obtiene turno\n",
    "        inicia = env.now # Guarda el minuto cuado comienza a ser atendido\n",
    "        espera = inicia - hora_llegada # Calcula el tiempo que espero\n",
    "        te = te + espera # Acumula los tiempos de espera\n",
    "        print (\"**** {} pasa con el despachador en minuto {:.2f} habiendo esperado {:.2f}\".format(nombre, inicia, espera))\n",
    "        yield env.process(cargar(nombre)) # Invoca al proceso cargar los productos al carro\n",
    "        termina = env.now #Guarda el minuto en que termina el proceso carga de productos \n",
    "        print (\"<--- {} deja el area de carga en minuto {:.2f}\".format(nombre, termina))\n",
    "\n",
    "def principal (env, despachador):\n",
    "    llegada = 0\n",
    "    i = 0\n",
    "    for i in range(total_repartidores):\n",
    "        R = random.random()\n",
    "        llegada = -tiempo_entre_llegadas * math.log(R)\n",
    "        yield env.timeout(llegada)  # Deja transcurrir un tiempo entre uno y otro\n",
    "        i += 1\n",
    "        env.process(repartidor(env, 'Repartidor %d' % i, despachador)) "
   ]
  },
  {
   "cell_type": "code",
   "execution_count": 5,
   "metadata": {},
   "outputs": [
    {
     "name": "stdout",
     "output_type": "stream",
     "text": [
      "------------------- Bienvenido Simulacion carga de carros repartidores ------------------\n",
      "---> Repartidor 1 llego al area de carga en minuto 9.27\n",
      "**** Repartidor 1 pasa con el despachador en minuto 9.27 habiendo esperado 0.00\n",
      " Carro del repartidor Repartidor 1 cargado en 10.30 minutos\n",
      "<--- Repartidor 1 deja el area de carga en minuto 19.57\n",
      "---> Repartidor 2 llego al area de carga en minuto 27.88\n",
      "**** Repartidor 2 pasa con el despachador en minuto 27.88 habiendo esperado 0.00\n",
      "---> Repartidor 3 llego al area de carga en minuto 34.26\n",
      " Carro del repartidor Repartidor 2 cargado en 12.10 minutos\n",
      "<--- Repartidor 2 deja el area de carga en minuto 39.98\n",
      "**** Repartidor 3 pasa con el despachador en minuto 39.98 habiendo esperado 5.72\n",
      " Carro del repartidor Repartidor 3 cargado en 13.97 minutos\n",
      "<--- Repartidor 3 deja el area de carga en minuto 53.95\n",
      "---> Repartidor 4 llego al area de carga en minuto 54.62\n",
      "**** Repartidor 4 pasa con el despachador en minuto 54.62 habiendo esperado 0.00\n",
      "---> Repartidor 5 llego al area de carga en minuto 61.28\n",
      " Carro del repartidor Repartidor 4 cargado en 19.89 minutos\n",
      "<--- Repartidor 4 deja el area de carga en minuto 74.51\n",
      "**** Repartidor 5 pasa con el despachador en minuto 74.51 habiendo esperado 13.23\n",
      " Carro del repartidor Repartidor 5 cargado en 14.62 minutos\n",
      "<--- Repartidor 5 deja el area de carga en minuto 89.12\n"
     ]
    }
   ],
   "source": [
    "print (\"------------------- Bienvenido Simulacion carga de carros repartidores ------------------\")\n",
    "random.seed (30) # Cualquier valor\n",
    "env = simpy.Environment() # Crea el objeto entorno de simulacion\n",
    "despachadores = simpy.Resource(env, num_despachadores) #Crea los recursos (despachadores)\n",
    "env.process(principal(env, despachadores)) #Invoca el proceso princial\n",
    "env.run() #Inicia la simulacion"
   ]
  },
  {
   "cell_type": "code",
   "execution_count": 6,
   "metadata": {},
   "outputs": [
    {
     "name": "stdout",
     "output_type": "stream",
     "text": [
      "Tiempo de espera promedio = 3.79\n"
     ]
    }
   ],
   "source": [
    "print (\"Tiempo de espera promedio = {:.2f}\".format(te / total_repartidores))"
   ]
  }
 ],
 "metadata": {
  "kernelspec": {
   "display_name": "Python 3",
   "language": "python",
   "name": "python3"
  },
  "language_info": {
   "codemirror_mode": {
    "name": "ipython",
    "version": 3
   },
   "file_extension": ".py",
   "mimetype": "text/x-python",
   "name": "python",
   "nbconvert_exporter": "python",
   "pygments_lexer": "ipython3",
   "version": "3.7.3"
  }
 },
 "nbformat": 4,
 "nbformat_minor": 2
}
