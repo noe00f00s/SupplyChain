{
 "cells": [
  {
   "cell_type": "markdown",
   "metadata": {},
   "source": [
    "## PYSPC. graficando el proceso de recepcion de leche cruda.\n",
    "\n",
    "![](leche.png)\n",
    "\n",
    "\n",
    "La leche requiere controles muy especificos ya que, por su completa composicion, es el blanco perfecto para la proliferacion de patogenos.\n",
    "\n",
    "**por ejemplo:** Una elevada cantidad de bacterias indica que ha habido contaminacion durante el ordeño, la manipulacion o el almacenamiento posterior."
   ]
  },
  {
   "cell_type": "markdown",
   "metadata": {},
   "source": [
    "### nivel de PH en la recepcion de leche cruda de los productores locales.\n",
    "\n",
    "![](productores.png)\n",
    "\n",
    "Como se puede ver en el cuadro cochabamba cuenta con un gran numero de pequeños productores de leche. estos son los proveedores de leche para empresas como PIL.\n",
    "\n",
    "en este ejemplo se analizara los datos recolectados del control de PH realizado por la empresa PIL a la hora de recibir la leche de los productores."
   ]
  },
  {
   "cell_type": "code",
   "execution_count": 1,
   "metadata": {},
   "outputs": [
    {
     "name": "stdout",
     "output_type": "stream",
     "text": [
      "Requirement already satisfied: pyspc in /opt/conda/lib/python3.7/site-packages (0.4)\r\n",
      "Requirement already satisfied: matplotlib in /opt/conda/lib/python3.7/site-packages (from pyspc) (3.1.1)\r\n",
      "Requirement already satisfied: pandas in /opt/conda/lib/python3.7/site-packages (from pyspc) (0.25.0)\r\n",
      "Requirement already satisfied: numpy in /opt/conda/lib/python3.7/site-packages (from pyspc) (1.17.0)\r\n",
      "Requirement already satisfied: scipy in /opt/conda/lib/python3.7/site-packages (from pyspc) (1.3.1)\r\n",
      "Requirement already satisfied: pyparsing!=2.0.4,!=2.1.2,!=2.1.6,>=2.0.1 in /opt/conda/lib/python3.7/site-packages (from matplotlib->pyspc) (2.4.2)\r\n",
      "Requirement already satisfied: cycler>=0.10 in /opt/conda/lib/python3.7/site-packages (from matplotlib->pyspc) (0.10.0)\r\n",
      "Requirement already satisfied: kiwisolver>=1.0.1 in /opt/conda/lib/python3.7/site-packages (from matplotlib->pyspc) (1.1.0)\r\n",
      "Requirement already satisfied: python-dateutil>=2.1 in /opt/conda/lib/python3.7/site-packages (from matplotlib->pyspc) (2.8.0)\r\n",
      "Requirement already satisfied: pytz>=2017.2 in /opt/conda/lib/python3.7/site-packages (from pandas->pyspc) (2019.2)\r\n",
      "Requirement already satisfied: six in /opt/conda/lib/python3.7/site-packages (from cycler>=0.10->matplotlib->pyspc) (1.12.0)\r\n",
      "Requirement already satisfied: setuptools in /opt/conda/lib/python3.7/site-packages (from kiwisolver>=1.0.1->matplotlib->pyspc) (41.0.1)\r\n"
     ]
    }
   ],
   "source": [
    "#instalamos la libreria pyspc.\n",
    "!pip install pyspc"
   ]
  },
  {
   "cell_type": "code",
   "execution_count": 2,
   "metadata": {},
   "outputs": [],
   "source": [
    "import pandas as pd # importamos pandas para leer el dataset.\n",
    "import numpy as np "
   ]
  },
  {
   "cell_type": "code",
   "execution_count": 4,
   "metadata": {},
   "outputs": [
    {
     "data": {
      "text/html": [
       "<div>\n",
       "<style scoped>\n",
       "    .dataframe tbody tr th:only-of-type {\n",
       "        vertical-align: middle;\n",
       "    }\n",
       "\n",
       "    .dataframe tbody tr th {\n",
       "        vertical-align: top;\n",
       "    }\n",
       "\n",
       "    .dataframe thead th {\n",
       "        text-align: right;\n",
       "    }\n",
       "</style>\n",
       "<table border=\"1\" class=\"dataframe\">\n",
       "  <thead>\n",
       "    <tr style=\"text-align: right;\">\n",
       "      <th></th>\n",
       "      <th>productor</th>\n",
       "      <th>last_review</th>\n",
       "      <th>PH</th>\n",
       "    </tr>\n",
       "  </thead>\n",
       "  <tbody>\n",
       "    <tr>\n",
       "      <th>0</th>\n",
       "      <td>Patricia Herrera</td>\n",
       "      <td>w1</td>\n",
       "      <td>0.175683</td>\n",
       "    </tr>\n",
       "    <tr>\n",
       "      <th>1</th>\n",
       "      <td>Patricia Herrera</td>\n",
       "      <td>w2</td>\n",
       "      <td>0.187410</td>\n",
       "    </tr>\n",
       "    <tr>\n",
       "      <th>2</th>\n",
       "      <td>Patricia Herrera</td>\n",
       "      <td>w3</td>\n",
       "      <td>0.220469</td>\n",
       "    </tr>\n",
       "    <tr>\n",
       "      <th>3</th>\n",
       "      <td>Patricia Herrera</td>\n",
       "      <td>w4</td>\n",
       "      <td>0.144647</td>\n",
       "    </tr>\n",
       "    <tr>\n",
       "      <th>4</th>\n",
       "      <td>Patricia Herrera</td>\n",
       "      <td>w5</td>\n",
       "      <td>0.204566</td>\n",
       "    </tr>\n",
       "  </tbody>\n",
       "</table>\n",
       "</div>"
      ],
      "text/plain": [
       "          productor last_review        PH\n",
       "0  Patricia Herrera          w1  0.175683\n",
       "1  Patricia Herrera          w2  0.187410\n",
       "2  Patricia Herrera          w3  0.220469\n",
       "3  Patricia Herrera          w4  0.144647\n",
       "4  Patricia Herrera          w5  0.204566"
      ]
     },
     "execution_count": 4,
     "metadata": {},
     "output_type": "execute_result"
    }
   ],
   "source": [
    "# Cargamos los datos del fichero CSV\n",
    "df = pd.read_csv(\"2018.csv\")\n",
    "\n",
    "# observamos el conjunto de datos\n",
    "df.head()"
   ]
  },
  {
   "cell_type": "code",
   "execution_count": 5,
   "metadata": {},
   "outputs": [
    {
     "data": {
      "text/plain": [
       "count    52.000000\n",
       "mean      0.188126\n",
       "std       0.029884\n",
       "min       0.142515\n",
       "25%       0.156440\n",
       "50%       0.193638\n",
       "75%       0.211028\n",
       "max       0.239785\n",
       "Name: PH, dtype: float64"
      ]
     },
     "execution_count": 5,
     "metadata": {},
     "output_type": "execute_result"
    }
   ],
   "source": [
    "# los datos a analizar pertenecen a un solo proveedor y corresponden a la entrega semanal de toda la gestion 2018\n",
    "# los niveles de PH aceptables para la recepcion de leche son de 0.12 a 0.25 \n",
    "df['PH'].describe()"
   ]
  },
  {
   "cell_type": "code",
   "execution_count": 7,
   "metadata": {},
   "outputs": [
    {
     "data": {
      "image/png": "[encoded data removed]",
      "text/plain": [
       "<Figure size 432x288 with 1 Axes>"
      ]
     },
     "metadata": {
      "needs_background": "light"
     },
     "output_type": "display_data"
    },
    {
     "name": "stdout",
     "output_type": "stream",
     "text": [
      "<pyspc: (-9223363258858340320)>\n"
     ]
    }
   ],
   "source": [
    "# importamos la libreria pyspc para generar la grafica.\n",
    "from pyspc import * \n",
    "grafica = spc(df['PH']) + ewma() + rules()\n",
    "print(grafica)"
   ]
  }
 ],
 "metadata": {
  "kernelspec": {
   "display_name": "Python 3",
   "language": "python",
   "name": "python3"
  },
  "language_info": {
   "codemirror_mode": {
    "name": "ipython",
    "version": 3
   },
   "file_extension": ".py",
   "mimetype": "text/x-python",
   "name": "python",
   "nbconvert_exporter": "python",
   "pygments_lexer": "ipython3",
   "version": "3.7.3"
  }
 },
 "nbformat": 4,
 "nbformat_minor": 2
}
