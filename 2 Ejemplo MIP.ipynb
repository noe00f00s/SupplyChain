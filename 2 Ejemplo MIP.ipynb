{
 "cells": [
  {
   "cell_type": "markdown",
   "metadata": {},
   "source": [
    "### PULP. Minimizar gastos en el proceso de recoleccion de leche de las granjas en cochabamba.\n",
    "\n",
    "La empresa PIL para satisfacer el abastecimiento de leche cruda contrata servicios de terceros (choferes que tienen sus propios camiones). \n",
    "\n",
    "este proceso de recoleccion de leche de las grangas productoras se lo realiza de lunes a viernes. \n",
    "\n",
    "la empresa tiene una lista de los posibles choferes y los montos que estos cobran por dia que varian por factores como el tamaño del carro que estos poseen.\n",
    "\n",
    "### Objetivo\n",
    "minimizar los costos en el proceso de contratacion analizando las restricciones de disponibilidad de cada chofer para el dia de la semana y la tarifa de los mismos."
   ]
  },
  {
   "cell_type": "code",
   "execution_count": 2,
   "metadata": {},
   "outputs": [
    {
     "name": "stdout",
     "output_type": "stream",
     "text": [
      "Requirement already satisfied: pulp in /opt/conda/lib/python3.7/site-packages (2.0)\r\n",
      "Requirement already satisfied: pyparsing>=2.0.1 in /opt/conda/lib/python3.7/site-packages (from pulp) (2.4.2)\r\n"
     ]
    }
   ],
   "source": [
    "# instalamos la libreria PULP\n",
    "!pip install pulp"
   ]
  },
  {
   "cell_type": "code",
   "execution_count": 3,
   "metadata": {},
   "outputs": [],
   "source": [
    "# importamos librerias\n",
    "import pulp as pl\n",
    "import collections as cl"
   ]
  },
  {
   "cell_type": "code",
   "execution_count": 4,
   "metadata": {},
   "outputs": [],
   "source": [
    "# requerimiento de choferes por dia lunes=1 martes=2 miercoles=2 jueves=3 viernes=5\n",
    "# El requerimiento de choferes por dia de la semana varia debido la necesidad/demanda de leche de la empresa.\n",
    "requerimiento_choferes = [1, 2, 2, 3, 5]\n",
    "\n",
    "# listado de choferes y su disponibilidad segun dia de la semana\n",
    "choferes = {\n",
    "    \"Vladimir\": {\n",
    "        \"disponibilidad\": [0, 1, 4], #0=lunes 1=martes 2=miercoles ....\n",
    "        \"tarifa\": 200\n",
    "    },\n",
    "    \"Jonathan\": {\n",
    "        \"disponibilidad\": [1, 2, 3, 4],\n",
    "        \"tarifa\": 150\n",
    "    },\n",
    "    \"Ariel\": {\n",
    "        \"disponibilidad\": [2, 3],\n",
    "        \"tarifa\": 350\n",
    "    },\n",
    "    \"Fabiana\": {\n",
    "        \"disponibilidad\": [3, 4],\n",
    "        \"tarifa\": 350\n",
    "    },\n",
    "    \"Roger\": {\n",
    "        \"disponibilidad\": [1, 3, 4],\n",
    "        \"tarifa\": 100\n",
    "    },\n",
    "    \"Gonzalo\": {\n",
    "        \"disponibilidad\": [0, 2, 4],\n",
    "        \"tarifa\": 250\n",
    "    },\n",
    "    \"Eduardo\": {\n",
    "        \"disponibilidad\": [1, 3, 4],\n",
    "        \"tarifa\": 300\n",
    "    },\n",
    "    \"Armando\": {\n",
    "        \"disponibilidad\": [1, 2, 4],\n",
    "        \"tarifa\": 200\n",
    "    },\n",
    "    \"Carlos\": {\n",
    "        \"disponibilidad\": [0, 1, 3],\n",
    "        \"tarifa\": 200\n",
    "    }\n",
    "}"
   ]
  },
  {
   "cell_type": "code",
   "execution_count": 5,
   "metadata": {},
   "outputs": [],
   "source": [
    "# definimos que queremos minimizar el costo\n",
    "problema = pl.LpProblem(\"scheduling\", pl.LpMinimize)"
   ]
  },
  {
   "cell_type": "code",
   "execution_count": 6,
   "metadata": {},
   "outputs": [],
   "source": [
    "# algunos modelos de variable\n",
    "costos = []\n",
    "choferes_por_dia = cl.defaultdict(list)\n",
    "\n",
    "for chofer, info in choferes.items():\n",
    "    for dia in info['disponibilidad']:\n",
    "        chofer_dia = pl.LpVariable(\"%s_%s\" % (chofer, dia), 0, 1, pl.LpInteger)\n",
    "        choferes_por_dia[dia].append(chofer_dia)\n",
    "        costos.append(chofer_dia * info['tarifa'])\n"
   ]
  },
  {
   "cell_type": "code",
   "execution_count": 7,
   "metadata": {},
   "outputs": [],
   "source": [
    "# agregamos el objetivo: costo total (suma de tarifas)\n",
    "problema += sum(costos)"
   ]
  },
  {
   "cell_type": "code",
   "execution_count": 8,
   "metadata": {},
   "outputs": [],
   "source": [
    "# indicamos los requerimientos por dia.\n",
    "for dia, requerimiento in enumerate(requerimiento_choferes):\n",
    "    problema += sum(choferes_por_dia[dia]) >= requerimiento"
   ]
  },
  {
   "cell_type": "code",
   "execution_count": 9,
   "metadata": {
    "scrolled": true
   },
   "outputs": [
    {
     "name": "stdout",
     "output_type": "stream",
     "text": [
      "Resultado: Optimal\n"
     ]
    }
   ],
   "source": [
    "# resolvemos el problema\n",
    "status = problema.solve()\n",
    "print(\"Resultado:\", pl.LpStatus[status])"
   ]
  },
  {
   "cell_type": "code",
   "execution_count": 10,
   "metadata": {},
   "outputs": [
    {
     "name": "stdout",
     "output_type": "stream",
     "text": [
      "dia: 0 choferes: Carlos_0\n",
      "dia: 1 choferes: Jonathan_1, Roger_1\n",
      "dia: 2 choferes: Jonathan_2, Armando_2\n",
      "dia: 3 choferes: Jonathan_3, Roger_3, Carlos_3\n",
      "dia: 4 choferes: Vladimir_4, Jonathan_4, Roger_4, Gonzalo_4, Armando_4\n"
     ]
    }
   ],
   "source": [
    "resultados = []\n",
    "for dia, vars in choferes_por_dia.items():\n",
    "    resultados.append({\n",
    "        \"dia\": dia,\n",
    "        \"choferes\": [var.name for var in vars if var.varValue == 1], #varValue estara en 1 si el chofer trabajara ese dia.\n",
    "    })\n",
    "\n",
    "for resultado in sorted(resultados, key=lambda x: x['dia']):\n",
    "    print(\"dia:\", resultado['dia'], 'choferes:', ', '.join(resultado['choferes']))"
   ]
  }
 ],
 "metadata": {
  "kernelspec": {
   "display_name": "Python 3",
   "language": "python",
   "name": "python3"
  },
  "language_info": {
   "codemirror_mode": {
    "name": "ipython",
    "version": 3
   },
   "file_extension": ".py",
   "mimetype": "text/x-python",
   "name": "python",
   "nbconvert_exporter": "python",
   "pygments_lexer": "ipython3",
   "version": "3.7.3"
  }
 },
 "nbformat": 4,
 "nbformat_minor": 2
}
